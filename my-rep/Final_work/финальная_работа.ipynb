{
  "cells": [
    {
      "cell_type": "markdown",
      "metadata": {
        "id": "mEeBoIjJ_dOh"
      },
      "source": [
        "##Data Preparation"
      ]
    },
    {
      "cell_type": "code",
      "execution_count": 1,
      "metadata": {
        "id": "3W-xrzoa_zFr"
      },
      "outputs": [],
      "source": [
        "import pandas as pd\n",
        "import numpy as np\n",
        "import seaborn as sns"
      ]
    },
    {
      "cell_type": "code",
      "execution_count": 2,
      "metadata": {
        "colab": {
          "base_uri": "https://localhost:8080/"
        },
        "id": "k9f6pn8W_jaG",
        "outputId": "0653a045-7ee0-4f70-fa28-8c901d7b74c7"
      },
      "outputs": [],
      "source": [
        "ga_hits = pd.read_csv('H:/Мой диск/ga_hits.csv')"
      ]
    },
    {
      "cell_type": "code",
      "execution_count": 3,
      "metadata": {},
      "outputs": [
        {
          "name": "stderr",
          "output_type": "stream",
          "text": [
            "C:\\Users\\андрей\\AppData\\Local\\Temp\\ipykernel_980\\995622212.py:1: DtypeWarning: Columns (1) have mixed types. Specify dtype option on import or set low_memory=False.\n",
            "  ga_sessions = pd.read_csv('H:/Мой диск/ga_sessions.csv')\n"
          ]
        }
      ],
      "source": [
        "ga_sessions = pd.read_csv('H:/Мой диск/ga_sessions.csv')"
      ]
    },
    {
      "cell_type": "code",
      "execution_count": 4,
      "metadata": {
        "id": "40b2359b"
      },
      "outputs": [],
      "source": [
        "import pickle as pkl\n",
        "pkl.dump(ga_hits, open('ga_hits.pkl', 'wb'))\n",
        "pkl.dump(ga_sessions, open('ga_sessions.pkl', 'wb'))\n",
        "#\n"
      ]
    },
    {
      "cell_type": "code",
      "execution_count": 5,
      "metadata": {
        "id": "UtwhvgWfBoze"
      },
      "outputs": [],
      "source": [
        "df = pd.merge(ga_hits, ga_sessions, on='session_id', how='inner')"
      ]
    },
    {
      "cell_type": "code",
      "execution_count": 6,
      "metadata": {
        "colab": {
          "base_uri": "https://localhost:8080/",
          "height": 300
        },
        "id": "7ooCrfOFCQKM",
        "outputId": "5daa8314-43d0-4bf9-e2b7-a842d92e7a71"
      },
      "outputs": [
        {
          "data": {
            "text/html": [
              "<div>\n",
              "<style scoped>\n",
              "    .dataframe tbody tr th:only-of-type {\n",
              "        vertical-align: middle;\n",
              "    }\n",
              "\n",
              "    .dataframe tbody tr th {\n",
              "        vertical-align: top;\n",
              "    }\n",
              "\n",
              "    .dataframe thead th {\n",
              "        text-align: right;\n",
              "    }\n",
              "</style>\n",
              "<table border=\"1\" class=\"dataframe\">\n",
              "  <thead>\n",
              "    <tr style=\"text-align: right;\">\n",
              "      <th></th>\n",
              "      <th>hit_time</th>\n",
              "      <th>hit_number</th>\n",
              "      <th>event_value</th>\n",
              "      <th>visit_number</th>\n",
              "    </tr>\n",
              "  </thead>\n",
              "  <tbody>\n",
              "    <tr>\n",
              "      <th>count</th>\n",
              "      <td>6.525016e+06</td>\n",
              "      <td>1.568522e+07</td>\n",
              "      <td>0.0</td>\n",
              "      <td>1.568522e+07</td>\n",
              "    </tr>\n",
              "    <tr>\n",
              "      <th>mean</th>\n",
              "      <td>2.042751e+05</td>\n",
              "      <td>2.347792e+01</td>\n",
              "      <td>NaN</td>\n",
              "      <td>2.696941e+00</td>\n",
              "    </tr>\n",
              "    <tr>\n",
              "      <th>std</th>\n",
              "      <td>3.785350e+05</td>\n",
              "      <td>2.861302e+01</td>\n",
              "      <td>NaN</td>\n",
              "      <td>1.254170e+01</td>\n",
              "    </tr>\n",
              "    <tr>\n",
              "      <th>min</th>\n",
              "      <td>0.000000e+00</td>\n",
              "      <td>1.000000e+00</td>\n",
              "      <td>NaN</td>\n",
              "      <td>1.000000e+00</td>\n",
              "    </tr>\n",
              "    <tr>\n",
              "      <th>25%</th>\n",
              "      <td>2.416700e+04</td>\n",
              "      <td>7.000000e+00</td>\n",
              "      <td>NaN</td>\n",
              "      <td>1.000000e+00</td>\n",
              "    </tr>\n",
              "    <tr>\n",
              "      <th>50%</th>\n",
              "      <td>8.973300e+04</td>\n",
              "      <td>1.500000e+01</td>\n",
              "      <td>NaN</td>\n",
              "      <td>1.000000e+00</td>\n",
              "    </tr>\n",
              "    <tr>\n",
              "      <th>75%</th>\n",
              "      <td>2.181740e+05</td>\n",
              "      <td>2.900000e+01</td>\n",
              "      <td>NaN</td>\n",
              "      <td>2.000000e+00</td>\n",
              "    </tr>\n",
              "    <tr>\n",
              "      <th>max</th>\n",
              "      <td>1.315688e+07</td>\n",
              "      <td>5.000000e+02</td>\n",
              "      <td>NaN</td>\n",
              "      <td>5.640000e+02</td>\n",
              "    </tr>\n",
              "  </tbody>\n",
              "</table>\n",
              "</div>"
            ],
            "text/plain": [
              "           hit_time    hit_number  event_value  visit_number\n",
              "count  6.525016e+06  1.568522e+07          0.0  1.568522e+07\n",
              "mean   2.042751e+05  2.347792e+01          NaN  2.696941e+00\n",
              "std    3.785350e+05  2.861302e+01          NaN  1.254170e+01\n",
              "min    0.000000e+00  1.000000e+00          NaN  1.000000e+00\n",
              "25%    2.416700e+04  7.000000e+00          NaN  1.000000e+00\n",
              "50%    8.973300e+04  1.500000e+01          NaN  1.000000e+00\n",
              "75%    2.181740e+05  2.900000e+01          NaN  2.000000e+00\n",
              "max    1.315688e+07  5.000000e+02          NaN  5.640000e+02"
            ]
          },
          "execution_count": 6,
          "metadata": {},
          "output_type": "execute_result"
        }
      ],
      "source": [
        "df.describe()"
      ]
    },
    {
      "cell_type": "code",
      "execution_count": 7,
      "metadata": {},
      "outputs": [
        {
          "data": {
            "text/html": [
              "<div>\n",
              "<style scoped>\n",
              "    .dataframe tbody tr th:only-of-type {\n",
              "        vertical-align: middle;\n",
              "    }\n",
              "\n",
              "    .dataframe tbody tr th {\n",
              "        vertical-align: top;\n",
              "    }\n",
              "\n",
              "    .dataframe thead th {\n",
              "        text-align: right;\n",
              "    }\n",
              "</style>\n",
              "<table border=\"1\" class=\"dataframe\">\n",
              "  <thead>\n",
              "    <tr style=\"text-align: right;\">\n",
              "      <th></th>\n",
              "      <th>session_id</th>\n",
              "      <th>hit_date</th>\n",
              "      <th>hit_time</th>\n",
              "      <th>hit_number</th>\n",
              "      <th>hit_type</th>\n",
              "      <th>hit_referer</th>\n",
              "      <th>hit_page_path</th>\n",
              "      <th>event_category</th>\n",
              "      <th>event_action</th>\n",
              "      <th>event_label</th>\n",
              "      <th>...</th>\n",
              "      <th>utm_adcontent</th>\n",
              "      <th>utm_keyword</th>\n",
              "      <th>device_category</th>\n",
              "      <th>device_os</th>\n",
              "      <th>device_brand</th>\n",
              "      <th>device_model</th>\n",
              "      <th>device_screen_resolution</th>\n",
              "      <th>device_browser</th>\n",
              "      <th>geo_country</th>\n",
              "      <th>geo_city</th>\n",
              "    </tr>\n",
              "  </thead>\n",
              "  <tbody>\n",
              "    <tr>\n",
              "      <th>0</th>\n",
              "      <td>5639623078712724064.1640254056.1640254056</td>\n",
              "      <td>2021-12-23</td>\n",
              "      <td>597864.0</td>\n",
              "      <td>30</td>\n",
              "      <td>event</td>\n",
              "      <td>NaN</td>\n",
              "      <td>sberauto.com/cars?utm_source_initial=google&amp;ut...</td>\n",
              "      <td>quiz</td>\n",
              "      <td>quiz_show</td>\n",
              "      <td>NaN</td>\n",
              "      <td>...</td>\n",
              "      <td>NaN</td>\n",
              "      <td>wvtWRwiRmvPIsSQuXnvd</td>\n",
              "      <td>mobile</td>\n",
              "      <td>Android</td>\n",
              "      <td>Huawei</td>\n",
              "      <td>NaN</td>\n",
              "      <td>360x780</td>\n",
              "      <td>Chrome</td>\n",
              "      <td>Russia</td>\n",
              "      <td>Saint Petersburg</td>\n",
              "    </tr>\n",
              "    <tr>\n",
              "      <th>1</th>\n",
              "      <td>7750352294969115059.1640271109.1640271109</td>\n",
              "      <td>2021-12-23</td>\n",
              "      <td>597331.0</td>\n",
              "      <td>41</td>\n",
              "      <td>event</td>\n",
              "      <td>NaN</td>\n",
              "      <td>sberauto.com/cars/fiat?city=1&amp;city=18&amp;rental_c...</td>\n",
              "      <td>quiz</td>\n",
              "      <td>quiz_show</td>\n",
              "      <td>NaN</td>\n",
              "      <td>...</td>\n",
              "      <td>JNHcPlZPxEMWDnRiyoBf</td>\n",
              "      <td>puhZPIYqKXeFPaUviSjo</td>\n",
              "      <td>mobile</td>\n",
              "      <td>Android</td>\n",
              "      <td>Xiaomi</td>\n",
              "      <td>NaN</td>\n",
              "      <td>393x851</td>\n",
              "      <td>Chrome</td>\n",
              "      <td>Russia</td>\n",
              "      <td>Chelyabinsk</td>\n",
              "    </tr>\n",
              "    <tr>\n",
              "      <th>2</th>\n",
              "      <td>885342191847998240.1640235807.1640235807</td>\n",
              "      <td>2021-12-23</td>\n",
              "      <td>796252.0</td>\n",
              "      <td>49</td>\n",
              "      <td>event</td>\n",
              "      <td>NaN</td>\n",
              "      <td>sberauto.com/cars/all/volkswagen/polo/e994838f...</td>\n",
              "      <td>quiz</td>\n",
              "      <td>quiz_show</td>\n",
              "      <td>NaN</td>\n",
              "      <td>...</td>\n",
              "      <td>NaN</td>\n",
              "      <td>JajANoFxoqXfKRNBUhzx</td>\n",
              "      <td>desktop</td>\n",
              "      <td>Windows</td>\n",
              "      <td>NaN</td>\n",
              "      <td>NaN</td>\n",
              "      <td>2560x1080</td>\n",
              "      <td>Chrome</td>\n",
              "      <td>Russia</td>\n",
              "      <td>Moscow</td>\n",
              "    </tr>\n",
              "    <tr>\n",
              "      <th>3</th>\n",
              "      <td>142526202120934167.1640211014.1640211014</td>\n",
              "      <td>2021-12-23</td>\n",
              "      <td>934292.0</td>\n",
              "      <td>46</td>\n",
              "      <td>event</td>\n",
              "      <td>NaN</td>\n",
              "      <td>sberauto.com/cars?utm_source_initial=yandex&amp;ut...</td>\n",
              "      <td>quiz</td>\n",
              "      <td>quiz_show</td>\n",
              "      <td>NaN</td>\n",
              "      <td>...</td>\n",
              "      <td>NaN</td>\n",
              "      <td>zXjuoqEaPElBnwpSHMpx</td>\n",
              "      <td>mobile</td>\n",
              "      <td>Android</td>\n",
              "      <td>Samsung</td>\n",
              "      <td>NaN</td>\n",
              "      <td>412x915</td>\n",
              "      <td>Chrome</td>\n",
              "      <td>Russia</td>\n",
              "      <td>Podolsk</td>\n",
              "    </tr>\n",
              "    <tr>\n",
              "      <th>4</th>\n",
              "      <td>3450086108837475701.1640265078.1640265078</td>\n",
              "      <td>2021-12-23</td>\n",
              "      <td>768741.0</td>\n",
              "      <td>79</td>\n",
              "      <td>event</td>\n",
              "      <td>NaN</td>\n",
              "      <td>sberauto.com/cars/all/mercedes-benz/cla-klasse...</td>\n",
              "      <td>quiz</td>\n",
              "      <td>quiz_show</td>\n",
              "      <td>NaN</td>\n",
              "      <td>...</td>\n",
              "      <td>JNHcPlZPxEMWDnRiyoBf</td>\n",
              "      <td>puhZPIYqKXeFPaUviSjo</td>\n",
              "      <td>desktop</td>\n",
              "      <td>Windows</td>\n",
              "      <td>NaN</td>\n",
              "      <td>NaN</td>\n",
              "      <td>1536x864</td>\n",
              "      <td>Chrome</td>\n",
              "      <td>Estonia</td>\n",
              "      <td>Tallinn</td>\n",
              "    </tr>\n",
              "  </tbody>\n",
              "</table>\n",
              "<p>5 rows × 28 columns</p>\n",
              "</div>"
            ],
            "text/plain": [
              "                                  session_id    hit_date  hit_time  \\\n",
              "0  5639623078712724064.1640254056.1640254056  2021-12-23  597864.0   \n",
              "1  7750352294969115059.1640271109.1640271109  2021-12-23  597331.0   \n",
              "2   885342191847998240.1640235807.1640235807  2021-12-23  796252.0   \n",
              "3   142526202120934167.1640211014.1640211014  2021-12-23  934292.0   \n",
              "4  3450086108837475701.1640265078.1640265078  2021-12-23  768741.0   \n",
              "\n",
              "   hit_number hit_type hit_referer  \\\n",
              "0          30    event         NaN   \n",
              "1          41    event         NaN   \n",
              "2          49    event         NaN   \n",
              "3          46    event         NaN   \n",
              "4          79    event         NaN   \n",
              "\n",
              "                                       hit_page_path event_category  \\\n",
              "0  sberauto.com/cars?utm_source_initial=google&ut...           quiz   \n",
              "1  sberauto.com/cars/fiat?city=1&city=18&rental_c...           quiz   \n",
              "2  sberauto.com/cars/all/volkswagen/polo/e994838f...           quiz   \n",
              "3  sberauto.com/cars?utm_source_initial=yandex&ut...           quiz   \n",
              "4  sberauto.com/cars/all/mercedes-benz/cla-klasse...           quiz   \n",
              "\n",
              "  event_action event_label  ...         utm_adcontent           utm_keyword  \\\n",
              "0    quiz_show         NaN  ...                   NaN  wvtWRwiRmvPIsSQuXnvd   \n",
              "1    quiz_show         NaN  ...  JNHcPlZPxEMWDnRiyoBf  puhZPIYqKXeFPaUviSjo   \n",
              "2    quiz_show         NaN  ...                   NaN  JajANoFxoqXfKRNBUhzx   \n",
              "3    quiz_show         NaN  ...                   NaN  zXjuoqEaPElBnwpSHMpx   \n",
              "4    quiz_show         NaN  ...  JNHcPlZPxEMWDnRiyoBf  puhZPIYqKXeFPaUviSjo   \n",
              "\n",
              "  device_category device_os  device_brand device_model  \\\n",
              "0          mobile   Android        Huawei          NaN   \n",
              "1          mobile   Android        Xiaomi          NaN   \n",
              "2         desktop   Windows           NaN          NaN   \n",
              "3          mobile   Android       Samsung          NaN   \n",
              "4         desktop   Windows           NaN          NaN   \n",
              "\n",
              "  device_screen_resolution device_browser geo_country          geo_city  \n",
              "0                  360x780         Chrome      Russia  Saint Petersburg  \n",
              "1                  393x851         Chrome      Russia       Chelyabinsk  \n",
              "2                2560x1080         Chrome      Russia            Moscow  \n",
              "3                  412x915         Chrome      Russia           Podolsk  \n",
              "4                 1536x864         Chrome     Estonia           Tallinn  \n",
              "\n",
              "[5 rows x 28 columns]"
            ]
          },
          "execution_count": 7,
          "metadata": {},
          "output_type": "execute_result"
        }
      ],
      "source": [
        "df.head()"
      ]
    },
    {
      "cell_type": "code",
      "execution_count": 8,
      "metadata": {},
      "outputs": [
        {
          "data": {
            "text/plain": [
              "event_action\n",
              "view_card                     3546622\n",
              "view_new_card                 3539687\n",
              "sub_landing                   1796528\n",
              "go_to_car_card                 972151\n",
              "sub_view_cars_click            791042\n",
              "                               ...   \n",
              "click_on_android                    1\n",
              "new_year_road_help_btn              1\n",
              "titul_page_view                     1\n",
              "show_pos_status_declined            1\n",
              "survey_buy_after_sell_when          1\n",
              "Name: count, Length: 230, dtype: int64"
            ]
          },
          "execution_count": 8,
          "metadata": {},
          "output_type": "execute_result"
        }
      ],
      "source": [
        "df['event_action'].value_counts()\n"
      ]
    },
    {
      "cell_type": "code",
      "execution_count": 9,
      "metadata": {},
      "outputs": [],
      "source": [
        "numerical_cols = df.select_dtypes(include='number').columns.tolist()\n",
        "df_num = df[numerical_cols]"
      ]
    },
    {
      "cell_type": "code",
      "execution_count": 10,
      "metadata": {},
      "outputs": [],
      "source": [
        "categorical_cols = df.select_dtypes(include=['object', 'category']).columns.tolist()\n",
        "df_cat = df[categorical_cols].astype(str)"
      ]
    },
    {
      "cell_type": "code",
      "execution_count": 11,
      "metadata": {},
      "outputs": [
        {
          "data": {
            "text/plain": [
              "session_id                   object\n",
              "hit_date                     object\n",
              "hit_time                    float64\n",
              "hit_number                    int64\n",
              "hit_type                     object\n",
              "hit_referer                  object\n",
              "hit_page_path                object\n",
              "event_category               object\n",
              "event_action                 object\n",
              "event_label                  object\n",
              "event_value                 float64\n",
              "client_id                    object\n",
              "visit_date                   object\n",
              "visit_time                   object\n",
              "visit_number                  int64\n",
              "utm_source                   object\n",
              "utm_medium                   object\n",
              "utm_campaign                 object\n",
              "utm_adcontent                object\n",
              "utm_keyword                  object\n",
              "device_category              object\n",
              "device_os                    object\n",
              "device_brand                 object\n",
              "device_model                 object\n",
              "device_screen_resolution     object\n",
              "device_browser               object\n",
              "geo_country                  object\n",
              "geo_city                     object\n",
              "dtype: object"
            ]
          },
          "execution_count": 11,
          "metadata": {},
          "output_type": "execute_result"
        }
      ],
      "source": [
        "df.dtypes"
      ]
    },
    {
      "cell_type": "code",
      "execution_count": 12,
      "metadata": {},
      "outputs": [
        {
          "name": "stderr",
          "output_type": "stream",
          "text": [
            "C:\\Users\\андрей\\AppData\\Local\\Temp\\ipykernel_980\\2827334849.py:2: UserWarning: Could not infer format, so each element will be parsed individually, falling back to `dateutil`. To ensure parsing is consistent and as-expected, please specify a format.\n",
            "  df['visit_time'] = pd.to_datetime(df['visit_time'])\n"
          ]
        }
      ],
      "source": [
        "df['hit_date']= pd.to_datetime(df['hit_date'])\n",
        "df['visit_time'] = pd.to_datetime(df['visit_time'])\n",
        "df['hit_time' ]= pd.to_datetime(df['hit_time'])\n",
        "df['visit_date'] = pd.to_datetime(df['visit_date'])"
      ]
    },
    {
      "cell_type": "code",
      "execution_count": 13,
      "metadata": {},
      "outputs": [
        {
          "name": "stderr",
          "output_type": "stream",
          "text": [
            "c:\\Users\\андрей\\AppData\\Local\\Programs\\Python\\Python312\\Lib\\site-packages\\pandas\\core\\computation\\expressions.py:73: RuntimeWarning: invalid value encountered in less\n",
            "  return op(a, b)\n",
            "c:\\Users\\андрей\\AppData\\Local\\Programs\\Python\\Python312\\Lib\\site-packages\\pandas\\core\\computation\\expressions.py:73: RuntimeWarning: invalid value encountered in greater\n",
            "  return op(a, b)\n"
          ]
        },
        {
          "name": "stdout",
          "output_type": "stream",
          "text": [
            "(13021475, 28)\n"
          ]
        }
      ],
      "source": [
        "Q1 = df[numerical_cols].quantile(0.25)\n",
        "Q3 = df[numerical_cols].quantile(0.75)\n",
        "IQR = Q3 - Q1\n",
        "outliers = ((df[numerical_cols] < (Q1 - 1.5 * IQR)) | (df[numerical_cols] > (Q3 + 1.5 * IQR)))\n",
        "df.drop(df[outliers.any(axis=1)].index, inplace=True)\n",
        "print(df.shape)"
      ]
    },
    {
      "cell_type": "code",
      "execution_count": 14,
      "metadata": {},
      "outputs": [],
      "source": [
        "df = df.drop(columns = ['hit_date', 'hit_time', 'visit_time', 'visit_date'])"
      ]
    },
    {
      "cell_type": "code",
      "execution_count": 15,
      "metadata": {},
      "outputs": [
        {
          "data": {
            "text/plain": [
              "<Axes: >"
            ]
          },
          "execution_count": 15,
          "metadata": {},
          "output_type": "execute_result"
        },
        {
          "data": {
            "image/png": "[encoded data removed]",
            "text/plain": [
              "<Figure size 640x480 with 1 Axes>"
            ]
          },
          "metadata": {},
          "output_type": "display_data"
        }
      ],
      "source": [
        "sns.boxplot(data=df)"
      ]
    },
    {
      "cell_type": "code",
      "execution_count": 15,
      "metadata": {},
      "outputs": [
        {
          "data": {
            "text/html": [
              "<div>\n",
              "<style scoped>\n",
              "    .dataframe tbody tr th:only-of-type {\n",
              "        vertical-align: middle;\n",
              "    }\n",
              "\n",
              "    .dataframe tbody tr th {\n",
              "        vertical-align: top;\n",
              "    }\n",
              "\n",
              "    .dataframe thead th {\n",
              "        text-align: right;\n",
              "    }\n",
              "</style>\n",
              "<table border=\"1\" class=\"dataframe\">\n",
              "  <thead>\n",
              "    <tr style=\"text-align: right;\">\n",
              "      <th></th>\n",
              "      <th>session_id</th>\n",
              "      <th>hit_number</th>\n",
              "      <th>hit_type</th>\n",
              "      <th>hit_referer</th>\n",
              "      <th>hit_page_path</th>\n",
              "      <th>event_category</th>\n",
              "      <th>event_action</th>\n",
              "      <th>event_label</th>\n",
              "      <th>event_value</th>\n",
              "      <th>client_id</th>\n",
              "      <th>...</th>\n",
              "      <th>utm_adcontent</th>\n",
              "      <th>utm_keyword</th>\n",
              "      <th>device_category</th>\n",
              "      <th>device_os</th>\n",
              "      <th>device_brand</th>\n",
              "      <th>device_model</th>\n",
              "      <th>device_screen_resolution</th>\n",
              "      <th>device_browser</th>\n",
              "      <th>geo_country</th>\n",
              "      <th>geo_city</th>\n",
              "    </tr>\n",
              "  </thead>\n",
              "  <tbody>\n",
              "    <tr>\n",
              "      <th>10</th>\n",
              "      <td>1945627655676404094.1640276355.1640276355</td>\n",
              "      <td>4</td>\n",
              "      <td>event</td>\n",
              "      <td>NaN</td>\n",
              "      <td>sberauto.com/cars/all/porsche/911/f149c91b?ren...</td>\n",
              "      <td>card_web</td>\n",
              "      <td>view_card</td>\n",
              "      <td>NaN</td>\n",
              "      <td>NaN</td>\n",
              "      <td>453001739.1640276350</td>\n",
              "      <td>...</td>\n",
              "      <td>JNHcPlZPxEMWDnRiyoBf</td>\n",
              "      <td>puhZPIYqKXeFPaUviSjo</td>\n",
              "      <td>mobile</td>\n",
              "      <td>iOS</td>\n",
              "      <td>Apple</td>\n",
              "      <td>NaN</td>\n",
              "      <td>2000x2000</td>\n",
              "      <td>Safari</td>\n",
              "      <td>United States</td>\n",
              "      <td>Forest City</td>\n",
              "    </tr>\n",
              "    <tr>\n",
              "      <th>11</th>\n",
              "      <td>4555345648396008371.1640233907.1640233907</td>\n",
              "      <td>4</td>\n",
              "      <td>event</td>\n",
              "      <td>trXmoxcphNjuYcShOXwL</td>\n",
              "      <td>sberauto.com/cars/all/nissan/qashqai/bfc21661?...</td>\n",
              "      <td>card_web</td>\n",
              "      <td>view_card</td>\n",
              "      <td>NaN</td>\n",
              "      <td>NaN</td>\n",
              "      <td>1060624059.164023</td>\n",
              "      <td>...</td>\n",
              "      <td>NaN</td>\n",
              "      <td>NaN</td>\n",
              "      <td>mobile</td>\n",
              "      <td>iOS</td>\n",
              "      <td>Apple</td>\n",
              "      <td>NaN</td>\n",
              "      <td>2000x2000</td>\n",
              "      <td>Safari</td>\n",
              "      <td>United States</td>\n",
              "      <td>Prineville</td>\n",
              "    </tr>\n",
              "    <tr>\n",
              "      <th>12</th>\n",
              "      <td>5636135307570360848.1640280592.1640280592</td>\n",
              "      <td>3</td>\n",
              "      <td>event</td>\n",
              "      <td>NaN</td>\n",
              "      <td>sberauto.com/cars/all/renault/duster/145d53f1?...</td>\n",
              "      <td>card_web</td>\n",
              "      <td>view_card</td>\n",
              "      <td>NaN</td>\n",
              "      <td>NaN</td>\n",
              "      <td>1312265011.164028</td>\n",
              "      <td>...</td>\n",
              "      <td>JNHcPlZPxEMWDnRiyoBf</td>\n",
              "      <td>puhZPIYqKXeFPaUviSjo</td>\n",
              "      <td>mobile</td>\n",
              "      <td>iOS</td>\n",
              "      <td>Apple</td>\n",
              "      <td>NaN</td>\n",
              "      <td>375x812</td>\n",
              "      <td>YaBrowser</td>\n",
              "      <td>Russia</td>\n",
              "      <td>Moscow</td>\n",
              "    </tr>\n",
              "    <tr>\n",
              "      <th>13</th>\n",
              "      <td>6993187768713388524.1640276467.1640276467</td>\n",
              "      <td>4</td>\n",
              "      <td>event</td>\n",
              "      <td>NaN</td>\n",
              "      <td>sberauto.com/cars/all/porsche/911/f149c91b?ren...</td>\n",
              "      <td>card_web</td>\n",
              "      <td>view_card</td>\n",
              "      <td>NaN</td>\n",
              "      <td>NaN</td>\n",
              "      <td>1628228409.164028</td>\n",
              "      <td>...</td>\n",
              "      <td>JNHcPlZPxEMWDnRiyoBf</td>\n",
              "      <td>puhZPIYqKXeFPaUviSjo</td>\n",
              "      <td>desktop</td>\n",
              "      <td>Linux</td>\n",
              "      <td>NaN</td>\n",
              "      <td>NaN</td>\n",
              "      <td>2000x2000</td>\n",
              "      <td>Chrome</td>\n",
              "      <td>United States</td>\n",
              "      <td>Prineville</td>\n",
              "    </tr>\n",
              "    <tr>\n",
              "      <th>14</th>\n",
              "      <td>9063469723165129646.1640233902.1640233902</td>\n",
              "      <td>3</td>\n",
              "      <td>event</td>\n",
              "      <td>uMnMdxLOIznakHyXLoMC</td>\n",
              "      <td>sberauto.com/cars/all/skoda/rapid/bf24b977?ren...</td>\n",
              "      <td>card_web</td>\n",
              "      <td>view_card</td>\n",
              "      <td>NaN</td>\n",
              "      <td>NaN</td>\n",
              "      <td>2110253489.164024</td>\n",
              "      <td>...</td>\n",
              "      <td>NaN</td>\n",
              "      <td>NaN</td>\n",
              "      <td>tablet</td>\n",
              "      <td>Android</td>\n",
              "      <td>Google</td>\n",
              "      <td>NaN</td>\n",
              "      <td>360x480</td>\n",
              "      <td>Chrome</td>\n",
              "      <td>United States</td>\n",
              "      <td>Prineville</td>\n",
              "    </tr>\n",
              "  </tbody>\n",
              "</table>\n",
              "<p>5 rows × 24 columns</p>\n",
              "</div>"
            ],
            "text/plain": [
              "                                   session_id  hit_number hit_type  \\\n",
              "10  1945627655676404094.1640276355.1640276355           4    event   \n",
              "11  4555345648396008371.1640233907.1640233907           4    event   \n",
              "12  5636135307570360848.1640280592.1640280592           3    event   \n",
              "13  6993187768713388524.1640276467.1640276467           4    event   \n",
              "14  9063469723165129646.1640233902.1640233902           3    event   \n",
              "\n",
              "             hit_referer                                      hit_page_path  \\\n",
              "10                   NaN  sberauto.com/cars/all/porsche/911/f149c91b?ren...   \n",
              "11  trXmoxcphNjuYcShOXwL  sberauto.com/cars/all/nissan/qashqai/bfc21661?...   \n",
              "12                   NaN  sberauto.com/cars/all/renault/duster/145d53f1?...   \n",
              "13                   NaN  sberauto.com/cars/all/porsche/911/f149c91b?ren...   \n",
              "14  uMnMdxLOIznakHyXLoMC  sberauto.com/cars/all/skoda/rapid/bf24b977?ren...   \n",
              "\n",
              "   event_category event_action event_label  event_value             client_id  \\\n",
              "10       card_web    view_card         NaN          NaN  453001739.1640276350   \n",
              "11       card_web    view_card         NaN          NaN     1060624059.164023   \n",
              "12       card_web    view_card         NaN          NaN     1312265011.164028   \n",
              "13       card_web    view_card         NaN          NaN     1628228409.164028   \n",
              "14       card_web    view_card         NaN          NaN     2110253489.164024   \n",
              "\n",
              "    ...         utm_adcontent           utm_keyword device_category device_os  \\\n",
              "10  ...  JNHcPlZPxEMWDnRiyoBf  puhZPIYqKXeFPaUviSjo          mobile       iOS   \n",
              "11  ...                   NaN                   NaN          mobile       iOS   \n",
              "12  ...  JNHcPlZPxEMWDnRiyoBf  puhZPIYqKXeFPaUviSjo          mobile       iOS   \n",
              "13  ...  JNHcPlZPxEMWDnRiyoBf  puhZPIYqKXeFPaUviSjo         desktop     Linux   \n",
              "14  ...                   NaN                   NaN          tablet   Android   \n",
              "\n",
              "   device_brand device_model device_screen_resolution device_browser  \\\n",
              "10        Apple          NaN                2000x2000         Safari   \n",
              "11        Apple          NaN                2000x2000         Safari   \n",
              "12        Apple          NaN                  375x812      YaBrowser   \n",
              "13          NaN          NaN                2000x2000         Chrome   \n",
              "14       Google          NaN                  360x480         Chrome   \n",
              "\n",
              "      geo_country     geo_city  \n",
              "10  United States  Forest City  \n",
              "11  United States   Prineville  \n",
              "12         Russia       Moscow  \n",
              "13  United States   Prineville  \n",
              "14  United States   Prineville  \n",
              "\n",
              "[5 rows x 24 columns]"
            ]
          },
          "execution_count": 15,
          "metadata": {},
          "output_type": "execute_result"
        }
      ],
      "source": [
        "df.head()"
      ]
    },
    {
      "cell_type": "code",
      "execution_count": 16,
      "metadata": {},
      "outputs": [],
      "source": [
        "df['target'] = df['event_value'].fillna(0).astype(int)\n",
        "if df['target'].nunique() == 1:\n",
        "    df.loc[df.sample(frac=0.01, random_state=42).index, 'target'] = 1\n",
        "def extract_last_event_features(df):\n",
        "    features = []\n",
        "\n",
        "    for session_id, group in df.groupby('session_id'):\n",
        "        group_sorted = group.sort_values('hit_number')\n",
        "        if (group_sorted['target'] == 1).any():\n",
        "            row = group_sorted[group_sorted['target'] == 1].iloc[-1]\n",
        "        else:\n",
        "            row = group_sorted.iloc[-1]\n",
        "\n",
        "        features.append({\n",
        "            'session_id': session_id,\n",
        "            'target': int((group_sorted['target'] == 1).any()),\n",
        "            'last_event_action': row['event_action'],\n",
        "            'last_hit_page_path': row['hit_page_path'],\n",
        "            'last_hit_number': row['hit_number'],\n",
        "        })\n",
        "\n",
        "    return pd.DataFrame(features)\n",
        "df_features = extract_last_event_features(df)\n"
      ]
    },
    {
      "cell_type": "code",
      "execution_count": 17,
      "metadata": {},
      "outputs": [],
      "source": [
        "df_first = df.sort_values('hit_number').groupby('session_id').first().reset_index()\n",
        "\n",
        "df_merged = df_features.merge(\n",
        "    df_first[['session_id', 'utm_source', 'utm_medium', 'utm_campaign',\n",
        "              'utm_adcontent', 'utm_keyword', 'device_category',\n",
        "              'device_os', 'device_brand', 'device_model',\n",
        "              'device_screen_resolution', 'device_browser',\n",
        "              'geo_country', 'geo_city']],\n",
        "    on='session_id', how='left'\n",
        ")\n",
        "\n",
        "\n"
      ]
    },
    {
      "cell_type": "code",
      "execution_count": 18,
      "metadata": {},
      "outputs": [
        {
          "data": {
            "text/plain": [
              "event_value                       0\n",
              "hit_type                          1\n",
              "target                            2\n",
              "visit_number                      3\n",
              "device_category                   3\n",
              "device_os                        13\n",
              "utm_medium                       45\n",
              "event_category                   49\n",
              "device_browser                   55\n",
              "hit_number                       62\n",
              "device_model                    104\n",
              "geo_country                     156\n",
              "device_brand                    200\n",
              "event_action                    212\n",
              "utm_source                      250\n",
              "utm_adcontent                   268\n",
              "utm_campaign                    374\n",
              "utm_keyword                    1157\n",
              "geo_city                       2363\n",
              "device_screen_resolution       4911\n",
              "hit_referer                   33258\n",
              "event_label                   35714\n",
              "hit_page_path                301251\n",
              "client_id                   1315864\n",
              "session_id                  1581628\n",
              "dtype: int64"
            ]
          },
          "execution_count": 18,
          "metadata": {},
          "output_type": "execute_result"
        }
      ],
      "source": [
        "df.nunique().sort_values()"
      ]
    },
    {
      "cell_type": "code",
      "execution_count": 20,
      "metadata": {},
      "outputs": [
        {
          "name": "stderr",
          "output_type": "stream",
          "text": [
            "c:\\Users\\андрей\\AppData\\Local\\Programs\\Python\\Python312\\Lib\\site-packages\\sklearn\\linear_model\\_logistic.py:473: ConvergenceWarning: lbfgs failed to converge after 1000 iteration(s) (status=1):\n",
            "STOP: TOTAL NO. OF ITERATIONS REACHED LIMIT\n",
            "\n",
            "Increase the number of iterations to improve the convergence (max_iter=1000).\n",
            "You might also want to scale the data as shown in:\n",
            "    https://scikit-learn.org/stable/modules/preprocessing.html\n",
            "Please also refer to the documentation for alternative solver options:\n",
            "    https://scikit-learn.org/stable/modules/linear_model.html#logistic-regression\n",
            "  n_iter_i = _check_optimize_result(\n"
          ]
        },
        {
          "name": "stdout",
          "output_type": "stream",
          "text": [
            "0.7737\n"
          ]
        }
      ],
      "source": [
        "from sklearn.pipeline import Pipeline\n",
        "from sklearn.compose import ColumnTransformer\n",
        "from sklearn.preprocessing import OneHotEncoder\n",
        "from sklearn.impute import SimpleImputer\n",
        "from sklearn.linear_model import LogisticRegression\n",
        "from sklearn.metrics import accuracy_score\n",
        "from sklearn.model_selection import train_test_split\n",
        "import dill\n",
        "\n",
        "# Разделяем данные на train/test\n",
        "X = df_merged.drop(columns=['session_id', 'target'])\n",
        "y = df_merged['target']\n",
        "X_train, X_test, y_train, y_test = train_test_split(X, y, test_size=0.2, random_state=42)\n",
        "\n",
        "# Определяем признаки\n",
        "cat_features = X.select_dtypes(include='object').columns.tolist()\n",
        "num_features = X.select_dtypes(include=['int64', 'float64']).columns.tolist()\n",
        "\n",
        "# Предобработка\n",
        "preprocessor = ColumnTransformer(transformers=[\n",
        "    ('num', SimpleImputer(strategy='mean'), num_features),\n",
        "    ('cat', Pipeline([\n",
        "        ('imputer', SimpleImputer(strategy='constant', fill_value='missing')),\n",
        "        ('encoder', OneHotEncoder(handle_unknown='ignore', sparse_output=True))\n",
        "    ]), cat_features)\n",
        "])\n",
        "\n",
        "# Сборка pipeline\n",
        "pipe = Pipeline([\n",
        "    ('preprocessor', preprocessor),\n",
        "    ('classifier', LogisticRegression(max_iter=1000, class_weight='balanced'))\n",
        "])\n",
        "\n",
        "# Обучаем модель\n",
        "pipe.fit(X_train, y_train)\n",
        "\n",
        "# Предсказание и accuracy\n",
        "y_pred = pipe.predict(X_test)\n",
        "accuracy = accuracy_score(y_test, y_pred)\n",
        "print(f\"{accuracy:.4f}\")\n",
        "\n",
        "# Сохраняем модель\n",
        "artifact = {'model': pipe}\n",
        "with open('H:/Мой диск/pipe.pkl', 'wb') as f:\n",
        "    dill.dump(artifact, f)\n"
      ]
    },
    {
      "cell_type": "code",
      "execution_count": null,
      "metadata": {},
      "outputs": [
        {
          "name": "stdout",
          "output_type": "stream",
          "text": [
            "['last_event_action', 'last_hit_page_path', 'last_hit_number', 'utm_source', 'utm_medium', 'utm_campaign', 'utm_adcontent', 'utm_keyword', 'device_category', 'device_os', 'device_brand', 'device_model', 'device_screen_resolution', 'device_browser', 'geo_country', 'geo_city']\n"
          ]
        }
      ],
      "source": [
        "feature_names = X.columns.tolist()\n",
        "print(feature_names)\n"
      ]
    },
    {
      "cell_type": "code",
      "execution_count": 30,
      "metadata": {},
      "outputs": [
        {
          "data": {
            "text/plain": [
              "last_event_action           object\n",
              "last_hit_page_path          object\n",
              "last_hit_number              int64\n",
              "utm_source                  object\n",
              "utm_medium                  object\n",
              "utm_campaign                object\n",
              "utm_adcontent               object\n",
              "utm_keyword                 object\n",
              "device_category             object\n",
              "device_os                   object\n",
              "device_brand                object\n",
              "device_model                object\n",
              "device_screen_resolution    object\n",
              "device_browser              object\n",
              "geo_country                 object\n",
              "geo_city                    object\n",
              "dtype: object"
            ]
          },
          "execution_count": 30,
          "metadata": {},
          "output_type": "execute_result"
        }
      ],
      "source": [
        "X.dtypes"
      ]
    },
    {
      "cell_type": "code",
      "execution_count": 28,
      "metadata": {},
      "outputs": [
        {
          "name": "stdout",
          "output_type": "stream",
          "text": [
            "<class 'pandas.core.frame.DataFrame'>\n"
          ]
        }
      ],
      "source": [
        "import pickle\n",
        "\n",
        "with open('ga_hits.pkl', 'rb') as f:\n",
        "    obj = pickle.load(f)\n",
        "with open('ga_sessions.pkl', 'rb') as fin:\n",
        "    obj = pickle.load(fin)\n",
        "\n",
        "print(type(obj))\n",
        "import pickle as pkl\n",
        "pkl.dump(ga_hits, open('ga_hits.pkl', 'wb'))\n",
        "pkl.dump(ga_sessions, open('ga_sessions.pkl', 'wb'))"
      ]
    },
    {
      "cell_type": "code",
      "execution_count": null,
      "metadata": {},
      "outputs": [],
      "source": []
    }
  ],
  "metadata": {
    "colab": {
      "provenance": []
    },
    "kernelspec": {
      "display_name": "Python 3",
      "language": "python",
      "name": "python3"
    },
    "language_info": {
      "codemirror_mode": {
        "name": "ipython",
        "version": 3
      },
      "file_extension": ".py",
      "mimetype": "text/x-python",
      "name": "python",
      "nbconvert_exporter": "python",
      "pygments_lexer": "ipython3",
      "version": "3.12.1"
    }
  },
  "nbformat": 4,
  "nbformat_minor": 0
}
